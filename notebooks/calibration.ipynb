{
 "cells": [
  {
   "cell_type": "markdown",
   "id": "5b9bd580",
   "metadata": {},
   "source": [
    "• Purpose: show, step by step, how to calibrate your phone camera with a chessboard pattern.\n",
    "• Contents:\n",
    "– Markdown overview of camera intrinsics & why calibration matters\n",
    "– Code cells to\n",
    "• load a set of chessboard images (glob pattern)\n",
    "• detect and refine chessboard corners with cv2.findChessboardCorners() + cornerSubPix()\n",
    "• run cv2.calibrateCamera()\n",
    "• compute & print reprojection error\n",
    "• visualize detected corners overlaid on each image\n",
    "• save the resulting K and distortion vector into camera_calib.npz\n",
    "– Tips on how many images to shoot, what board size to use, and how to verify calibration quality"
   ]
  }
 ],
 "metadata": {
  "language_info": {
   "name": "python"
  }
 },
 "nbformat": 4,
 "nbformat_minor": 5
}
