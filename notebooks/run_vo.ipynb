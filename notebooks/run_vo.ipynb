{
 "cells": [
  {
   "cell_type": "markdown",
   "id": "bf830cd7",
   "metadata": {},
   "source": [
    "• Purpose: demonstrate running the monocular VO pipeline on a sample video entirely inside the notebook—no .py editing required.\n",
    "• Contents:\n",
    "– Markdown recap of the VO steps (feature detection, tracking, essential matrix, pose recovery, scale)\n",
    "– Code cells to\n",
    "• import necessary libs (OpenCV, NumPy, Matplotlib)\n",
    "• load your calibration file camera_calib.npz (or fall back to the heuristic K)\n",
    "• configure VO parameters (maxCorners, LK‐flow params, ABSOLUTE_SCALE, etc.)\n",
    "• read a short demo video from data/sample_video.mp4\n",
    "• run the same core loop as vo_pipeline.py but display each frame inline (e.g. with cv2_imshow)\n",
    "• accumulate and plot the X–Z trajectory in a live Matplotlib output cell\n",
    "• show final overlaid feature‐track video and final trajectory plot\n",
    "– Interactive widgets (optional) to tweak e.g. number of features, scale parameter, or re-detection thresholds"
   ]
  }
 ],
 "metadata": {
  "language_info": {
   "name": "python"
  }
 },
 "nbformat": 4,
 "nbformat_minor": 5
}
